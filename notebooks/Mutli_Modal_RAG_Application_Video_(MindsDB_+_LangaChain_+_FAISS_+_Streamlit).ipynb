{
  "cells": [
    {
      "cell_type": "markdown",
      "metadata": {
        "id": "StDo0csFjTXa"
      },
      "source": [
        "#Multi-Modal RAG Application Video\n",
        "\n",
        "This Notebook includes the following steps:-\n",
        "1. Installing the necessary libraries\n",
        "2. Importing the necessary libraries\n",
        "3. Dowloading the source (Youtube Video)\n",
        "4. Extracting the frames from video\n",
        "5. Generating audio file for video\n",
        "6. Dividing the audio into chunks and transcribing the chunks\n",
        "7. Generating summaries of chunks and frames\n",
        "8. Creation vector databse using `faiss-cpu` library\n",
        "9. Saving the vector databse to local\n",
        "10. Creation of custom llm and embedding model using [mdb.ai](https://mdb.ai/models) endpoints\n",
        "9. Loading the saved vector database and creating a prompt template\n",
        "9. Creating a function that retreives the relevant content for the user question. Where it is used as context while generating answer with the help of LLM..\n",
        "9. Finally, testing.....\n"
      ]
    },
    {
      "cell_type": "markdown",
      "metadata": {
        "id": "pZKyTC5i4Ufy"
      },
      "source": [
        "#Architecture\n",
        "![Flowcharts (1)](https://github.com/chakka-guna-sekhar-venkata-chennaiah/Mutli-Modal-RAG-ChaBot/assets/110555361/ce045df8-f3c5-4d26-adc4-8fdb2540aa1f)\n"
      ]
    },
    {
      "cell_type": "markdown",
      "metadata": {
        "id": "Zdv1blfskr33"
      },
      "source": [
        "#1. Installing the necessary libraries"
      ]
    },
    {
      "cell_type": "code",
      "execution_count": null,
      "metadata": {
        "id": "F796ECRrThVj"
      },
      "outputs": [],
      "source": [
        "!pip install langchain unstructured[all-docs] pydantic lxml openai chromadb tiktoken opencv-python pytube moviepy pydub speechrecognition faiss-cpu langchain-community langchain-core"
      ]
    },
    {
      "cell_type": "markdown",
      "metadata": {
        "id": "zLdqGTJoku1z"
      },
      "source": [
        "#2. Importing the necessary libraries"
      ]
    },
    {
      "cell_type": "code",
      "execution_count": null,
      "metadata": {
        "id": "gIkXziWaIROk"
      },
      "outputs": [],
      "source": [
        "import os\n",
        "import uuid\n",
        "import base64\n",
        "import pytube\n",
        "from moviepy.editor import VideoFileClip\n",
        "from pydub import AudioSegment\n",
        "import speech_recognition as sr\n",
        "from IPython.display import display, Image as IPImage\n",
        "from PIL import Image\n",
        "from unstructured.partition.pdf import partition_pdf\n",
        "from langchain.chat_models import ChatOpenAI\n",
        "from langchain.embeddings import OpenAIEmbeddings\n",
        "from langchain.chains import LLMChain\n",
        "from langchain.prompts import PromptTemplate\n",
        "from langchain.schema.messages import HumanMessage, SystemMessage\n",
        "from langchain.schema.document import Document\n",
        "from langchain.vectorstores import FAISS\n",
        "from langchain.retrievers.multi_vector import MultiVectorRetriever\n"
      ]
    },
    {
      "cell_type": "markdown",
      "metadata": {
        "id": "TwA5t5Wpkxqw"
      },
      "source": [
        "#3. Dowloading the source (Youtube Video)"
      ]
    },
    {
      "cell_type": "markdown",
      "metadata": {
        "id": "g_snnQZ8k1vC"
      },
      "source": [
        "For the demonstration prupose, we are using the following Youtbe video.\n",
        "[Link](https://www.youtube.com/watch?v=rRZdtAGInyQ&list=PLhRXULtLjLtfQ9COvoZg8Zg6ejTI3UPTG&index=1)"
      ]
    },
    {
      "cell_type": "code",
      "execution_count": null,
      "metadata": {
        "id": "lhiMFMfVIRQw"
      },
      "outputs": [],
      "source": [
        "# Download the YouTube video\n",
        "youtube_url = 'https://www.youtube.com/watch?v=rRZdtAGInyQ&list=PLhRXULtLjLtfQ9COvoZg8Zg6ejTI3UPTG&index=1'\n",
        "video = pytube.YouTube(youtube_url)\n",
        "video_stream = video.streams.filter(progressive=True, file_extension='mp4').first()\n",
        "video_path = video_stream.download()"
      ]
    },
    {
      "cell_type": "markdown",
      "metadata": {
        "id": "oUO4v5qTlISy"
      },
      "source": [
        "#4. Extracting the frames from video"
      ]
    },
    {
      "cell_type": "code",
      "execution_count": null,
      "metadata": {
        "id": "dd5dYCtLIRS7"
      },
      "outputs": [],
      "source": [
        "# Extract frames from the video\n",
        "output_frames_path = '/content/frames'\n",
        "os.makedirs(output_frames_path, exist_ok=True)\n",
        "clip = VideoFileClip(video_path)\n",
        "duration = clip.duration"
      ]
    },
    {
      "cell_type": "code",
      "execution_count": null,
      "metadata": {
        "id": "fDQw27YDIRVN"
      },
      "outputs": [],
      "source": [
        "frame_rate = 1  # Extract 1 frame per second\n",
        "for t in range(0, int(duration), frame_rate):\n",
        "    frame = clip.get_frame(t)\n",
        "    frame_image_path = os.path.join(output_frames_path, f'frame_{t}.jpg')\n",
        "    frame_image = Image.fromarray(frame)\n",
        "    frame_image.save(frame_image_path)"
      ]
    },
    {
      "cell_type": "markdown",
      "metadata": {
        "id": "0fSHgheolMtX"
      },
      "source": [
        "#5. Generating audio file for the video"
      ]
    },
    {
      "cell_type": "code",
      "execution_count": null,
      "metadata": {
        "colab": {
          "base_uri": "https://localhost:8080/"
        },
        "id": "rXrs9FH0IRXg",
        "outputId": "82339659-f104-4995-b816-4f0599770add"
      },
      "outputs": [
        {
          "name": "stdout",
          "output_type": "stream",
          "text": [
            "MoviePy - Writing audio in /content/audio.wav\n"
          ]
        },
        {
          "name": "stderr",
          "output_type": "stream",
          "text": [
            "                                                                      "
          ]
        },
        {
          "name": "stdout",
          "output_type": "stream",
          "text": [
            "MoviePy - Done.\n"
          ]
        },
        {
          "name": "stderr",
          "output_type": "stream",
          "text": [
            "\r"
          ]
        }
      ],
      "source": [
        "# Convert video to audio\n",
        "audio_path = '/content/audio.wav'\n",
        "clip.audio.write_audiofile(audio_path)"
      ]
    },
    {
      "cell_type": "markdown",
      "metadata": {
        "id": "KI6Tilt2lYVt"
      },
      "source": [
        "#6. Dividing the audio into chunks and transcribing the chunks"
      ]
    },
    {
      "cell_type": "code",
      "execution_count": null,
      "metadata": {
        "id": "TIfWB6ihIRZi"
      },
      "outputs": [],
      "source": [
        "# Transcribe audio to text\n",
        "recognizer = sr.Recognizer()\n",
        "audio = AudioSegment.from_wav(audio_path)\n",
        "audio_chunks = audio[::60000]  # Split audio into 1-minute chunks\n",
        "\n",
        "transcriptions = []\n",
        "for i, chunk in enumerate(audio_chunks):\n",
        "    chunk_path = f'/content/chunk_{i}.wav'\n",
        "    chunk.export(chunk_path, format='wav')\n",
        "\n",
        "    with sr.AudioFile(chunk_path) as source:\n",
        "        audio_data = recognizer.record(source)\n",
        "        text = recognizer.recognize_google(audio_data)\n",
        "        transcriptions.append(text)\n",
        "\n",
        "transcribed_text = ' '.join(transcriptions)"
      ]
    },
    {
      "cell_type": "markdown",
      "metadata": {
        "id": "R-t4s2I1lgrh"
      },
      "source": [
        "#7. Generating summaries of chunks and frames"
      ]
    },
    {
      "cell_type": "code",
      "execution_count": null,
      "metadata": {
        "colab": {
          "base_uri": "https://localhost:8080/"
        },
        "id": "m9GXEzf6IRb8",
        "outputId": "cc86baad-77a4-43de-f5cb-d50f7743aac1"
      },
      "outputs": [
        {
          "name": "stderr",
          "output_type": "stream",
          "text": [
            "WARNING:py.warnings:/usr/local/lib/python3.10/dist-packages/langchain_core/_api/deprecation.py:139: LangChainDeprecationWarning: The class `ChatOpenAI` was deprecated in LangChain 0.0.10 and will be removed in 0.3.0. An updated version of the class exists in the langchain-openai package and should be used instead. To use it run `pip install -U langchain-openai` and import as `from langchain_openai import ChatOpenAI`.\n",
            "  warn_deprecated(\n",
            "\n",
            "WARNING:py.warnings:/usr/local/lib/python3.10/dist-packages/langchain_core/_api/deprecation.py:139: LangChainDeprecationWarning: The class `LLMChain` was deprecated in LangChain 0.1.17 and will be removed in 1.0. Use RunnableSequence, e.g., `prompt | llm` instead.\n",
            "  warn_deprecated(\n",
            "\n",
            "WARNING:py.warnings:/usr/local/lib/python3.10/dist-packages/langchain_core/_api/deprecation.py:139: LangChainDeprecationWarning: The method `Chain.run` was deprecated in langchain 0.1.0 and will be removed in 0.3.0. Use invoke instead.\n",
            "  warn_deprecated(\n",
            "\n"
          ]
        }
      ],
      "source": [
        "# Use LangChain and OpenAI for summarization and processing\n",
        "openai_api_key = 'your-openai-api-key'\n",
        "\n",
        "# Summarize transcribed text\n",
        "summary_prompt = \"\"\"\n",
        "Summarize the following text:\n",
        "{text}\n",
        "\"\"\"\n",
        "\n",
        "summary_chain = LLMChain(\n",
        "    llm=ChatOpenAI(model=\"gpt-3.5-turbo\", openai_api_key=openai_api_key, max_tokens=1024),\n",
        "    prompt=PromptTemplate.from_template(summary_prompt)\n",
        ")\n",
        "\n",
        "text_summary = summary_chain.run({'text': transcribed_text})\n",
        "\n"
      ]
    },
    {
      "cell_type": "code",
      "execution_count": null,
      "metadata": {
        "id": "YkWTk3otIReP"
      },
      "outputs": [],
      "source": [
        "# Create lists to store text elements, text summaries, image elements, and image summaries\n",
        "text_elements = [transcribed_text]\n",
        "text_summaries = [text_summary]\n",
        "image_elements = []\n",
        "image_summaries = []\n"
      ]
    },
    {
      "cell_type": "code",
      "execution_count": null,
      "metadata": {
        "id": "mej_BQ7Yn6fL"
      },
      "outputs": [],
      "source": [
        "# Summarize images\n",
        "def encode_image(image_path):\n",
        "    with open(image_path, \"rb\") as f:\n",
        "        return base64.b64encode(f.read()).decode('utf-8')\n",
        "\n",
        "def summarize_image(encoded_image):\n",
        "    prompt = [\n",
        "        SystemMessage(content=\"You are a bot that is good at analyzing images.\"),\n",
        "        HumanMessage(content=[\n",
        "            {\n",
        "                \"type\": \"text\",\n",
        "                \"text\": \"Describe the contents of this image.\"\n",
        "            },\n",
        "            {\n",
        "                \"type\": \"image_url\",\n",
        "                \"image_url\": {\n",
        "                    \"url\": f\"data:image/jpeg;base64,{encoded_image}\"\n",
        "                },\n",
        "            },\n",
        "        ])\n",
        "    ]\n",
        "    response = ChatOpenAI(model=\"gpt-4o\", openai_api_key=openai_api_key, max_tokens=1024).invoke(prompt)\n",
        "    return response.content"
      ]
    },
    {
      "cell_type": "code",
      "execution_count": null,
      "metadata": {
        "id": "Ze3zNToHIRgY"
      },
      "outputs": [],
      "source": [
        "# Update the image summarization loop to store image elements and summaries\n",
        "for frame_file in os.listdir(output_frames_path):\n",
        "    frame_path = os.path.join(output_frames_path, frame_file)\n",
        "    encoded_image = encode_image(frame_path)\n",
        "    summary = summarize_image(encoded_image)\n",
        "    image_summaries.append(summary)\n",
        "    image_elements.append(encoded_image)\n"
      ]
    },
    {
      "cell_type": "markdown",
      "metadata": {
        "id": "967aNO_TlqOk"
      },
      "source": [
        "#8. Creation vector databse using faiss-cpu library"
      ]
    },
    {
      "cell_type": "markdown",
      "metadata": {
        "id": "btxxFs7NlyTY"
      },
      "source": [
        "Installing `fiass-cpu` library"
      ]
    },
    {
      "cell_type": "code",
      "execution_count": null,
      "metadata": {
        "colab": {
          "base_uri": "https://localhost:8080/"
        },
        "id": "6EuikzBJNVVS",
        "outputId": "0590a191-024b-4b8a-d006-b805327a6751"
      },
      "outputs": [
        {
          "name": "stdout",
          "output_type": "stream",
          "text": [
            "Collecting faiss-cpu\n",
            "  Downloading faiss_cpu-1.8.0.post1-cp310-cp310-manylinux_2_17_x86_64.manylinux2014_x86_64.whl (27.0 MB)\n",
            "\u001b[2K     \u001b[90m━━━━━━━━━━━━━━━━━━━━━━━━━━━━━━━━━━━━━━━━\u001b[0m \u001b[32m27.0/27.0 MB\u001b[0m \u001b[31m32.3 MB/s\u001b[0m eta \u001b[36m0:00:00\u001b[0m\n",
            "\u001b[?25hRequirement already satisfied: numpy<2.0,>=1.0 in /usr/local/lib/python3.10/dist-packages (from faiss-cpu) (1.25.2)\n",
            "Requirement already satisfied: packaging in /usr/local/lib/python3.10/dist-packages (from faiss-cpu) (24.1)\n",
            "Installing collected packages: faiss-cpu\n",
            "Successfully installed faiss-cpu-1.8.0.post1\n"
          ]
        }
      ],
      "source": [
        "!pip install faiss-cpu"
      ]
    },
    {
      "cell_type": "code",
      "execution_count": null,
      "metadata": {
        "id": "fGB4-xvlIRib"
      },
      "outputs": [],
      "source": [
        "# Create Documents and Vectorstore\n",
        "documents = []\n",
        "retrieve_contents = []\n",
        "\n",
        "for e, s in zip(text_elements, text_summaries):\n",
        "    i = str(uuid.uuid4())\n",
        "    doc = Document(\n",
        "        page_content = s,\n",
        "        metadata = {\n",
        "            'id': i,\n",
        "            'type': 'text',\n",
        "            'original_content': e\n",
        "        }\n",
        "    )\n",
        "    retrieve_contents.append((i, e))\n",
        "    documents.append(doc)\n",
        "\n",
        "for e, s in zip(image_elements, image_summaries):\n",
        "    doc = Document(\n",
        "        page_content = s,\n",
        "        metadata = {\n",
        "            'id': i,\n",
        "            'type': 'image',\n",
        "            'original_content': e\n",
        "        }\n",
        "    )\n",
        "    retrieve_contents.append((i, s))\n",
        "    documents.append(doc)\n",
        "\n",
        "vectorstore = FAISS.from_documents(documents=documents, embedding=OpenAIEmbeddings(openai_api_key=openai_api_key))"
      ]
    },
    {
      "cell_type": "markdown",
      "metadata": {
        "id": "SkRFfiDel2K1"
      },
      "source": [
        "#9. Saving the vector databse to local"
      ]
    },
    {
      "cell_type": "code",
      "execution_count": null,
      "metadata": {
        "id": "PwRDs0wzIRkk"
      },
      "outputs": [],
      "source": [
        "vectorstore.save_local(\"faiss_index_audio\") #You can checkout the file in your contents"
      ]
    },
    {
      "cell_type": "markdown",
      "metadata": {
        "id": "wUdg_p-OmMNf"
      },
      "source": [
        "#10. Creation of custom llm and embedding model using [mdb.ai](https://mdb.ai/models) endpoints"
      ]
    },
    {
      "cell_type": "markdown",
      "metadata": {
        "id": "hqa4VpDbmWwR"
      },
      "source": [
        "Before that, generate the api key from [mdb.ai](https://mdb.ai/models). By the God's grace 😀 the api is free......"
      ]
    },
    {
      "cell_type": "code",
      "execution_count": null,
      "metadata": {
        "id": "pb_SAzsvNq_R"
      },
      "outputs": [],
      "source": [
        "import base64\n",
        "from openai import OpenAI\n",
        "from langchain.vectorstores import FAISS\n",
        "from langchain.chains import LLMChain\n",
        "from langchain.prompts import PromptTemplate\n",
        "from IPython.display import display, Image\n",
        "from langchain.embeddings.base import Embeddings\n",
        "from langchain.llms.base import LLM\n",
        "from pydantic import BaseModel, Field\n",
        "\n",
        "# Initialize OpenAI/MindsDB client\n",
        "client = OpenAI(\n",
        "    api_key=\"your-mdb.ai-api-key\",\n",
        "    base_url=\"https://llm.mdb.ai/\"\n",
        ")\n",
        "\n",
        "class MDBEmbeddings(Embeddings):\n",
        "    def __init__(self, client):\n",
        "        super().__init__()\n",
        "        self.client = client\n",
        "\n",
        "    def embed_query(self, text):\n",
        "        response = self.client.embeddings.create(\n",
        "            model=\"text-embedding-ada-002\",\n",
        "            input=text,\n",
        "            encoding_format=\"float\"\n",
        "        )\n",
        "        return response.data[0].embedding\n",
        "\n",
        "    def __call__(self, text):\n",
        "        return self.embed_query(text)\n",
        "\n",
        "    def embed_documents(self, texts):\n",
        "        return [self.embed_query(text) for text in texts]\n",
        "\n",
        "class MDBChatLLM(LLM):\n",
        "    client: OpenAI = Field(...)\n",
        "\n",
        "    def __init__(self, client):\n",
        "        super().__init__()\n",
        "        self.client = client\n",
        "\n",
        "    def _call(self, prompt, **kwargs):\n",
        "        completion = self.client.chat.completions.create(\n",
        "            model=\"gpt-3.5-turbo\",\n",
        "            messages=[{\"role\": \"system\", \"content\": \"You are a helpful assistant.\"}, {\"role\": \"user\", \"content\": prompt}],\n",
        "            stream=False\n",
        "        )\n",
        "        return completion.choices[0].message.content\n",
        "\n",
        "    @property\n",
        "    def _llm_type(self) -> str:\n",
        "        return \"custom_mdb_chat\"\n",
        "\n",
        "# Instantiate the embeddings and LLM classes\n",
        "embeddings = MDBEmbeddings(client=client)\n",
        "mdb_chat_llm = MDBChatLLM(client=client)"
      ]
    },
    {
      "cell_type": "markdown",
      "metadata": {
        "id": "m5LGn9NWmgtb"
      },
      "source": [
        "#11. Loading the saved vector database and creating a prompt template"
      ]
    },
    {
      "cell_type": "code",
      "execution_count": null,
      "metadata": {
        "id": "wV78doJlmbsZ"
      },
      "outputs": [],
      "source": [
        "# Load the FAISS index with custom embeddings\n",
        "db = FAISS.load_local(\"faiss_index\", embeddings, allow_dangerous_deserialization=True)\n",
        "\n",
        "# Define the prompt template for the LLMChain\n",
        "prompt_template = \"\"\"\n",
        "You are an assistant tasked with summarizing tables and text.\n",
        "Give a concise summary of the table or text.\n",
        "Answer the question based only on the following context, which can include text, images, and tables:\n",
        "{context}\n",
        "Question: {question}\n",
        "Don't answer if you are not sure and decline to answer and say \"Sorry, I don't have much information about it.\"\n",
        "Just return the helpful answer in as much detail as possible.\n",
        "Answer:\n",
        "\"\"\"\n",
        "\n"
      ]
    },
    {
      "cell_type": "markdown",
      "metadata": {
        "id": "QCfg1HXYmmxO"
      },
      "source": [
        "#12. Creating a function that retreives the relevant content for the user question. Where it is used as context while generating answer with the help of LLM.."
      ]
    },
    {
      "cell_type": "code",
      "execution_count": null,
      "metadata": {
        "colab": {
          "base_uri": "https://localhost:8080/"
        },
        "id": "HWxQBwbgIRmy",
        "outputId": "3a5b7c2d-1a91-4b61-d3ff-d31787625d58"
      },
      "outputs": [
        {
          "name": "stdout",
          "output_type": "stream",
          "text": [
            "The key points discussed in the presentation slides titled \"Pros\" are as follows:\n",
            "\n",
            "1. **Minimal Effort** - The topic requires minimal effort; clear instructions or questions are sufficient.\n",
            "2. **Accessible for Everyone** - No technical expertise is needed to engage with the topic.\n",
            "3. **Broad Task Range** - The topic is versatile and applicable to various tasks without the need for significant modifications.\n",
            "\n",
            "These points highlight the ease of engagement, inclusivity, and versatility of the discussed topic, as presented in the slides attributed to \"Kalyan KS @ Akmmus AI Labs.\"\n"
          ]
        }
      ],
      "source": [
        "# Setup the LLMChain with the custom chat model\n",
        "qa_chain = LLMChain(llm=mdb_chat_llm, prompt=PromptTemplate.from_template(prompt_template))\n",
        "\n",
        "# Query the vectorstore\n",
        "def answer(question):\n",
        "    relevant_docs = vectorstore.similarity_search(question)\n",
        "    context = \"\"\n",
        "    relevant_images = []\n",
        "    for d in relevant_docs:\n",
        "        if d.metadata['type'] == 'text':\n",
        "            context += '[text]' + d.metadata['original_content']\n",
        "        elif d.metadata['type'] == 'image':\n",
        "            context += '[image]' + d.page_content\n",
        "            relevant_images.append(d.metadata['original_content'])\n",
        "    result = qa_chain.run({'context': context, 'question': question})\n",
        "    return result, relevant_images\n"
      ]
    },
    {
      "cell_type": "markdown",
      "metadata": {
        "id": "OjnHrsOtm9V8"
      },
      "source": [
        "#13. Testing.."
      ]
    },
    {
      "cell_type": "code",
      "execution_count": null,
      "metadata": {
        "id": "2vIn2GKnm1Ve"
      },
      "outputs": [],
      "source": [
        "result, relevant_images = answer(\"Can you summarize the key points discussed in the video?\")\n",
        "print(result) #retreived result from LLM\n"
      ]
    },
    {
      "cell_type": "code",
      "execution_count": null,
      "metadata": {
        "colab": {
          "base_uri": "https://localhost:8080/",
          "height": 1000
        },
        "id": "8bIL9PmdIRpB",
        "outputId": "fe5765fe-a7b7-46fa-c555-17602294ac59"
      },
      "outputs": [
        {
          "data": {
            "image/jpeg": "[encoded data removed]",
            "text/plain": [
              "<IPython.core.display.Image object>"
            ]
          },
          "metadata": {},
          "output_type": "display_data"
        },
        {
          "data": {
            "image/jpeg": "[encoded data removed]",
            "text/plain": [
              "<IPython.core.display.Image object>"
            ]
          },
          "metadata": {},
          "output_type": "display_data"
        },
        {
          "data": {
            "image/jpeg": "[encoded data removed]",
            "text/plain": [
              "<IPython.core.display.Image object>"
            ]
          },
          "metadata": {},
          "output_type": "display_data"
        },
        {
          "data": {
            "image/jpeg": "[encoded data removed]",
            "text/plain": [
              "<IPython.core.display.Image object>"
            ]
          },
          "metadata": {},
          "output_type": "display_data"
        }
      ],
      "source": [
        "#Displaying all relevant image from relevant images list\n",
        "if len(relevant_images)>0:\n",
        "  for i in range(len(relevant_images)):\n",
        "    image_data = base64.b64decode(relevant_images[i])\n",
        "    display(Image(image_data))\n",
        "\n"
      ]
    },
    {
      "cell_type": "markdown",
      "metadata": {
        "id": "G5GIGJ0UpRWn"
      },
      "source": [
        "#Conclusion\n",
        "\n",
        "Checkout the [Github Link](https://github.com/chakka-guna-sekhar-venkata-chennaiah/Mutli-Modal-RAG-ChaBot) for Streamlit Deployment....\n",
        "\n",
        "If you appreciate this project, kindly show your support by ⭐ starring the repository and voting for me on Quria. Your encouragement would mean a lot! Additionally, I'd be grateful if you could like 👍, share, and follow me on [LinkedIn](https://linkedin.com/in/chakka-guna-sekhar-venkata-chennaiah-7a6985208/) to stay connected and get updates on my latest work. Thank you! 🙏✨"
      ]
    }
  ],
  "metadata": {
    "colab": {
      "collapsed_sections": [
        "Zdv1blfskr33",
        "zLdqGTJoku1z",
        "TwA5t5Wpkxqw",
        "oUO4v5qTlISy",
        "0fSHgheolMtX",
        "KI6Tilt2lYVt",
        "R-t4s2I1lgrh",
        "967aNO_TlqOk",
        "SkRFfiDel2K1",
        "wUdg_p-OmMNf",
        "m5LGn9NWmgtb",
        "QCfg1HXYmmxO",
        "OjnHrsOtm9V8"
      ],
      "provenance": []
    },
    "kernelspec": {
      "display_name": "Python 3",
      "name": "python3"
    },
    "language_info": {
      "name": "python"
    }
  },
  "nbformat": 4,
  "nbformat_minor": 0
}
